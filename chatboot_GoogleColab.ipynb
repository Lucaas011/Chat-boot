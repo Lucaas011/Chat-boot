{
  "cells": [
    {
      "cell_type": "markdown",
      "metadata": {
        "id": "view-in-github",
        "colab_type": "text"
      },
      "source": [
        "<a href=\"https://colab.research.google.com/github/Lucaas011/Chat-boot/blob/main/chatboot_GoogleColab.ipynb\" target=\"_parent\"><img src=\"https://colab.research.google.com/assets/colab-badge.svg\" alt=\"Open In Colab\"/></a>"
      ]
    },
    {
      "cell_type": "markdown",
      "metadata": {
        "id": "hxIQtRYiVcJX"
      },
      "source": [
        "Instalando o SDK do Google"
      ]
    },
    {
      "cell_type": "code",
      "execution_count": null,
      "metadata": {
        "id": "z8iJyuz0VcVu"
      },
      "outputs": [],
      "source": [
        "!pip install -q -U google-generativeai"
      ]
    },
    {
      "cell_type": "code",
      "execution_count": 5,
      "metadata": {
        "id": "3idrO4CGVstA"
      },
      "outputs": [],
      "source": [
        "import google.generativeai as genai  # Importa biblioteca genai\n",
        "from google.colab import userdata  # Importa módulo userdata do Google Colab\n",
        "\n",
        "# Recupera a chave API secreta do Colab\n",
        "api_key = userdata.get('SECRET_KEY')\n",
        "\n",
        "# Configura a biblioteca genai com a chave API\n",
        "genai.configure(api_key=api_key)\n"
      ]
    },
    {
      "cell_type": "markdown",
      "source": [
        "Mostra as listas\n"
      ],
      "metadata": {
        "id": "I5cpS5S_KwbU"
      }
    },
    {
      "cell_type": "code",
      "source": [
        "for m in genai.list_models():\n",
        "  if 'generateContent' in m.supported_generation_methods:\n",
        "    print(m.name)\n"
      ],
      "metadata": {
        "colab": {
          "base_uri": "https://localhost:8080/",
          "height": 139
        },
        "id": "jncQ0-7UKWqL",
        "outputId": "e848ff3e-c9ac-4bb8-8f0d-07f89591e66d"
      },
      "execution_count": 6,
      "outputs": [
        {
          "output_type": "stream",
          "name": "stdout",
          "text": [
            "models/gemini-1.0-pro\n",
            "models/gemini-1.0-pro-001\n",
            "models/gemini-1.0-pro-latest\n",
            "models/gemini-1.0-pro-vision-latest\n",
            "models/gemini-1.5-pro-latest\n",
            "models/gemini-pro\n",
            "models/gemini-pro-vision\n"
          ]
        }
      ]
    },
    {
      "cell_type": "markdown",
      "metadata": {
        "id": "7VNbKka2bH9q"
      },
      "source": [
        "candidate_count: 1: O modelo vai gerar apenas uma resposta.\n",
        "\n",
        "\n",
        "temperatura: 0.5: A resposta terá um nível moderado de criatividade."
      ]
    },
    {
      "cell_type": "code",
      "execution_count": 7,
      "metadata": {
        "id": "ruQCYZ7rXxZP"
      },
      "outputs": [],
      "source": [
        "generation_config = {\n",
        "    \"candidate_count\": 1,\n",
        "    \"temperature\": 0.5,\n",
        "}"
      ]
    },
    {
      "cell_type": "markdown",
      "metadata": {
        "id": "s9behNX9as_7"
      },
      "source": [
        "  ATENÇÃO: Esta configuração desativa todos os filtros de segurança!\n",
        "  Nenhum conteúdo será bloqueado, o que pode ser perigoso.\n",
        "\n",
        "\n",
        "  \"block_none\" - Permite qualquer conteúdo sexualmente explícito.\n",
        "\n",
        "\n",
        "\n"
      ]
    },
    {
      "cell_type": "code",
      "execution_count": 8,
      "metadata": {
        "id": "q1ymoIh-YfmI"
      },
      "outputs": [],
      "source": [
        "safety_setting = {\n",
        "    \"Harassment\": \"block_none\",\n",
        "    \"Hate\": \"block_none\",\n",
        "    \"Sexually Explicit\": \"block_none\",\n",
        "    \"Dangerous Content\": \"block_none\",\n",
        "}"
      ]
    },
    {
      "cell_type": "markdown",
      "metadata": {
        "id": "vbNEhqQablr1"
      },
      "source": [
        "Inicializando o modelo"
      ]
    },
    {
      "cell_type": "code",
      "execution_count": 9,
      "metadata": {
        "id": "qF3EBIGUbJCV"
      },
      "outputs": [],
      "source": [
        "safety_settings={\n",
        "    'HATE': 'BLOCK_NONE',\n",
        "    'HARASSMENT': 'BLOCK_NONE',\n",
        "    'SEXUAL' : 'BLOCK_NONE',\n",
        "    'DANGEROUS' : 'BLOCK_NONE'\n",
        "    }"
      ]
    },
    {
      "cell_type": "code",
      "execution_count": 10,
      "metadata": {
        "id": "obQ4QWgBd7vU"
      },
      "outputs": [],
      "source": [
        "model = genai.GenerativeModel(model_name='gemini-1.0-pro',\n",
        "                                  generation_config=generation_config,\n",
        "                                  safety_settings=safety_settings,)"
      ]
    },
    {
      "cell_type": "code",
      "source": [
        "response = model.generate_content(\"Vamos aprender sobre IA. Me de sugestões.\")\n",
        "print(response.text)"
      ],
      "metadata": {
        "colab": {
          "base_uri": "https://localhost:8080/",
          "height": 555
        },
        "id": "HEVFaNwyLOtZ",
        "outputId": "9cc7455e-0613-44ad-8b9f-1a33988e599a"
      },
      "execution_count": 11,
      "outputs": [
        {
          "output_type": "stream",
          "name": "stdout",
          "text": [
            "**Recursos Online:**\n",
            "\n",
            "* **Coursera:** Cursos gratuitos e pagos em IA, aprendizado de máquina e ciência de dados\n",
            "* **edX:** Cursos em IA de universidades como MIT e Harvard\n",
            "* **Udemy:** Cursos abrangentes em IA para iniciantes e profissionais\n",
            "* **Khan Academy:** Tutoriais gratuitos sobre IA e aprendizado de máquina\n",
            "* **Google AI Education:** Materiais de aprendizado, desafios e ferramentas para estudantes e educadores\n",
            "\n",
            "**Livros:**\n",
            "\n",
            "* **Inteligência Artificial: Uma Abordagem Moderna (3ª edição)** por Stuart Russell e Peter Norvig\n",
            "* **Aprendizado de Máquina (4ª edição)** por Tom Mitchell\n",
            "* **Aprendizado Profundo (2ª edição)** por Ian Goodfellow, Yoshua Bengio e Aaron Courville\n",
            "* **IA para Todos** por Andrew Ng e Ernest Davis\n",
            "* **IA Prática com Python** por Pragati Jain\n",
            "\n",
            "**Vídeos e Tutoriais:**\n",
            "\n",
            "* **Canal do YouTube do MIT OpenCourseWare:** Vídeos de palestras e materiais de cursos sobre IA\n",
            "* **Canal do YouTube do Google AI:** Tutoriais, entrevistas e demonstrações sobre IA\n",
            "* **Tutorial de IA da IBM:** Introdução abrangente à IA e seus princípios\n",
            "* **Tutorial de Aprendizado de Máquina da Microsoft:** Guia prático para conceitos e algoritmos de aprendizado de máquina\n",
            "* **Tutorial de Aprendizado Profundo da NVIDIA:** Exploração aprofundada de redes neurais e aprendizado profundo\n",
            "\n",
            "**Comunidades e Fóruns:**\n",
            "\n",
            "* **Stack Overflow:** Fórum para perguntas e respostas sobre programação e IA\n",
            "* **Reddit r/artificialintelligence:** Comunidade para discussões e notícias sobre IA\n",
            "* **LinkedIn Groups:** Grupos dedicados à IA, aprendizado de máquina e ciência de dados\n",
            "* **Meetup Groups:** Eventos e encontros locais para entusiastas e profissionais de IA\n",
            "* **Conferências e workshops:** Participe de eventos do setor para se conectar com especialistas e aprender sobre as últimas tendências em IA\n"
          ]
        }
      ]
    },
    {
      "cell_type": "code",
      "source": [
        "chat = model.start_chat(history=[])"
      ],
      "metadata": {
        "id": "RHI51HA9M66t"
      },
      "execution_count": 12,
      "outputs": []
    },
    {
      "cell_type": "code",
      "source": [
        "def mostrar_informações():\n",
        "  while True:\n",
        "    prompt = input(\"Qual é a sua dúvida? (Digite 'fim' para sair) \")\n",
        "    if prompt.lower() == \"fim\":\n",
        "      break\n",
        "    print(\"Processando sua pergunta:\", prompt)\n",
        "    response = chat.send_message(prompt)\n",
        "    print(\"Resposta:\", response.text, \"\\n\")\n",
        "\n",
        "# ... outras funções do seu chatbot ...\n",
        "\n",
        "while True:\n",
        "  # Exibe o menu\n",
        "  print(\"\\n--- Olá! no que posso ajudar? ---\")\n",
        "  print(\"1. Informações\")\n",
        "  # ... outras opções do menu ...\n",
        "  print(\"4. Sair\")\n",
        "\n",
        "  escolha = input(\"Digite o número da opção desejada: \")\n",
        "\n",
        "  if escolha == '1':\n",
        "    mostrar_informações()\n",
        "  # ... outras opções do menu ...\n",
        "  elif escolha == '4':\n",
        "    print(\"Até mais!\")\n",
        "    break\n",
        "  else:\n",
        "    print(\"Opção inválida. Tente novamente.\")"
      ],
      "metadata": {
        "colab": {
          "base_uri": "https://localhost:8080/",
          "height": 1000
        },
        "id": "NGg5TlFlNPpc",
        "outputId": "292f08b5-88dd-4e48-b29e-fce2a0efa2fe"
      },
      "execution_count": 27,
      "outputs": [
        {
          "output_type": "stream",
          "name": "stdout",
          "text": [
            "\n",
            "--- Olá! no que posso ajudar? ---\n",
            "1. Informações\n",
            "4. Sair\n",
            "Digite o número da opção desejada: 1\n",
            "Qual é a sua dúvida? (Digite 'fim' para sair) Qual é a sua opinião sobre a desigualdade social?\n",
            "Processando sua pergunta: Qual é a sua opinião sobre a desigualdade social?\n",
            "Resposta: A desigualdade social é uma questão complexa e multifacetada que afeta sociedades em todo o mundo. É uma situação em que existe uma distribuição desigual de recursos, oportunidades e recompensas entre diferentes grupos de pessoas.\n",
            "\n",
            "Existem muitas causas de desigualdade social, incluindo:\n",
            "\n",
            "* **Desigualdade econômica:** Diferenças na renda, riqueza e acesso a recursos materiais.\n",
            "* **Desigualdade educacional:** Diferenças no acesso à educação e na qualidade da educação.\n",
            "* **Desigualdade de saúde:** Diferenças no acesso a cuidados de saúde e na qualidade dos cuidados de saúde.\n",
            "* **Desigualdade política:** Diferenças no poder político e na influência.\n",
            "* **Discriminação:** Tratamento injusto ou preconceituoso com base em fatores como raça, gênero, orientação sexual ou deficiência.\n",
            "\n",
            "A desigualdade social pode ter uma série de consequências negativas para indivíduos e sociedades, incluindo:\n",
            "\n",
            "* **Pobreza e privação:** A desigualdade pode levar à pobreza e privação para aqueles que estão na parte inferior da escala social.\n",
            "* **Problemas de saúde:** A desigualdade pode levar a problemas de saúde para aqueles que não têm acesso a cuidados de saúde adequados ou que vivem em condições precárias.\n",
            "* **Instabilidade social:** A desigualdade pode levar à instabilidade social, pois aqueles que se sentem privados de direitos ou injustiçados podem recorrer à violência ou a outras formas de protesto.\n",
            "* **Crescimento econômico reduzido:** A desigualdade pode reduzir o crescimento econômico, pois aqueles que estão na parte inferior da escala social têm menos probabilidade de investir em educação e treinamento, o que pode levar a uma força de trabalho menos qualificada.\n",
            "\n",
            "Existem várias maneiras de reduzir a desigualdade social, incluindo:\n",
            "\n",
            "* **Políticas econômicas progressistas:** Políticas que redistribuem a riqueza e os recursos para aqueles que mais precisam, como impostos progressivos e programas de assistência social.\n",
            "* **Investimentos em educação:** Investir em educação pode ajudar a nivelar o campo de atuação e dar a todos uma chance justa de sucesso.\n",
            "* **Cuidado de saúde universal:** Garantir que todos tenham acesso a cuidados de saúde de qualidade pode ajudar a reduzir as desigualdades de saúde.\n",
            "* **Leis antidiscriminação:** Leis que proíbem a discriminação podem ajudar a criar uma sociedade mais justa e equitativa.\n",
            "* **Participação política:** Encorajar a participação política de todos os membros da sociedade pode ajudar a garantir que as vozes de todos sejam ouvidas.\n",
            "\n",
            "Reduzir a desigualdade social é um desafio complexo, mas é essencial para criar sociedades mais justas, equitativas e prósperas. \n",
            "\n",
            "Qual é a sua dúvida? (Digite 'fim' para sair) Quais são os principais benefícios da inteligência artificial?\n",
            "Processando sua pergunta: Quais são os principais benefícios da inteligência artificial?\n",
            "Resposta: **Principais benefícios da inteligência artificial (IA):**\n",
            "\n",
            "* **Automação de tarefas:** A IA pode automatizar tarefas repetitivas e demoradas, liberando tempo humano para tarefas mais complexas e criativas.\n",
            "* **Aumento da eficiência:** A IA pode ajudar a melhorar a eficiência em uma ampla gama de setores, otimizando processos e reduzindo erros.\n",
            "* **Tomada de decisão aprimorada:** A IA pode analisar grandes quantidades de dados e identificar padrões e insights que os humanos podem perder, auxiliando na tomada de decisões mais informadas.\n",
            "* **Personalização:** A IA pode personalizar experiências para indivíduos, fornecendo recomendações personalizadas, conteúdo e serviços adaptados às suas necessidades e preferências específicas.\n",
            "* **Novos produtos e serviços:** A IA está impulsionando a inovação e criando novos produtos e serviços que não seriam possíveis sem ela, como carros autônomos e assistentes virtuais.\n",
            "* **Avanços científicos:** A IA está acelerando o progresso científico em vários campos, como medicina, física e astronomia, permitindo que os pesquisadores analisem grandes conjuntos de dados e façam descobertas inovadoras.\n",
            "* **Melhoria da qualidade de vida:** A IA tem o potencial de melhorar a qualidade de vida das pessoas de várias maneiras, como fornecendo acesso a cuidados de saúde aprimorados, educação e serviços financeiros.\n",
            "\n",
            "**Exemplos específicos de benefícios da IA:**\n",
            "\n",
            "* **Setor de saúde:** Diagnóstico e tratamento mais precisos, desenvolvimento de novos medicamentos e terapias.\n",
            "* **Setor financeiro:** Detecção de fraudes, avaliação de risco de crédito e negociação automatizada.\n",
            "* **Setor de varejo:** Recomendações de produtos personalizadas, otimização de preços e gerenciamento de estoque.\n",
            "* **Setor de transporte:** Veículos autônomos, otimização de rotas e gerenciamento de tráfego.\n",
            "* **Setor de manufatura:** Otimização de processos, controle de qualidade e manutenção preditiva.\n",
            "\n",
            "À medida que a IA continua a evoluir, espera-se que traga ainda mais benefícios e transforme vários aspectos de nossas vidas e do mundo ao nosso redor. \n",
            "\n",
            "Qual é a sua dúvida? (Digite 'fim' para sair) fim\n",
            "\n",
            "--- Olá! no que posso ajudar? ---\n",
            "1. Informações\n",
            "4. Sair\n",
            "Digite o número da opção desejada: 4\n",
            "Até mais!\n"
          ]
        }
      ]
    }
  ],
  "metadata": {
    "colab": {
      "provenance": [],
      "authorship_tag": "ABX9TyPyvFo6H2tjDPLX6Xv7oS4y",
      "include_colab_link": true
    },
    "kernelspec": {
      "display_name": "Python 3",
      "name": "python3"
    },
    "language_info": {
      "name": "python"
    }
  },
  "nbformat": 4,
  "nbformat_minor": 0
}